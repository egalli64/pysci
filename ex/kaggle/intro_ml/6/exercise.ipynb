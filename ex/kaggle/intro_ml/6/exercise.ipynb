{
 "cells": [
  {
   "cell_type": "markdown",
   "metadata": {},
   "source": [
    "Python and Science - https://github.com/egalli64/pysci\n",
    "\n",
    "Kaggle Courses - Intro to Machine Learning - https://www.kaggle.com/learn/intro-to-machine-learning\n",
    "\n",
    "Random Forests - https://www.kaggle.com/code/dansbecker/random-forests\n",
    "\n",
    "melb_data.csv - https://www.kaggle.com/datasets/dansbecker/melbourne-housing-snapshot\n",
    "\n",
    "scikit-learn: pip install -U scikit-learn"
   ]
  },
  {
   "cell_type": "code",
   "execution_count": null,
   "metadata": {},
   "outputs": [],
   "source": [
    "# Setup - see previous exercises for clarifications\n",
    "import pandas as pd\n",
    "from sklearn.metrics import mean_absolute_error\n",
    "from sklearn.model_selection import train_test_split\n",
    "from sklearn.tree import DecisionTreeRegressor\n",
    "\n",
    "home_data = pd.read_csv('../data/train.csv')\n",
    "\n",
    "y = home_data.SalePrice\n",
    "X = home_data[['LotArea', 'YearBuilt', '1stFlrSF', '2ndFlrSF', 'FullBath', 'BedroomAbvGr', 'TotRmsAbvGrd']]\n",
    "train_X, val_X, train_y, val_y = train_test_split(X, y, random_state=1)\n",
    "\n",
    "iowa_model = DecisionTreeRegressor(random_state=1)\n",
    "iowa_model.fit(train_X, train_y)\n",
    "\n",
    "val_predictions = iowa_model.predict(val_X)\n",
    "val_mae = mean_absolute_error(val_predictions, val_y)\n",
    "print(f\"Validation MAE when not specifying max_leaf_nodes: {val_mae:,.0f}\")\n",
    "\n",
    "iowa_model = DecisionTreeRegressor(max_leaf_nodes=100, random_state=1)\n",
    "iowa_model.fit(train_X, train_y)\n",
    "val_predictions = iowa_model.predict(val_X)\n",
    "val_mae = mean_absolute_error(val_predictions, val_y)\n",
    "print(f\"Validation MAE for best value of max_leaf_nodes: {val_mae:,.0f}\")"
   ]
  },
  {
   "cell_type": "code",
   "execution_count": null,
   "metadata": {},
   "outputs": [],
   "source": [
    "# Use a Random Forest\n",
    "from sklearn.ensemble import RandomForestRegressor\n",
    "\n",
    "rf_model = RandomForestRegressor(random_state=1)\n",
    "rf_model.fit(train_X, train_y)\n",
    "rf_preds = rf_model.predict(val_X)\n",
    "rf_val_mae = mean_absolute_error(val_y, rf_preds)\n",
    "\n",
    "print(f\"Validation MAE for Random Forest Model: {rf_val_mae:,.0f}\")"
   ]
  }
 ],
 "metadata": {
  "kernelspec": {
   "display_name": ".venv",
   "language": "python",
   "name": "python3"
  },
  "language_info": {
   "codemirror_mode": {
    "name": "ipython",
    "version": 3
   },
   "file_extension": ".py",
   "mimetype": "text/x-python",
   "name": "python",
   "nbconvert_exporter": "python",
   "pygments_lexer": "ipython3",
   "version": "3.13.1"
  }
 },
 "nbformat": 4,
 "nbformat_minor": 2
}
