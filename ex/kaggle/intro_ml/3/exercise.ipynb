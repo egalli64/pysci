{
 "cells": [
  {
   "cell_type": "markdown",
   "metadata": {},
   "source": [
    "Python and Science - https://github.com/egalli64/pysci\n",
    "\n",
    "Kaggle Courses - Intro to Machine Learning - https://www.kaggle.com/learn/intro-to-machine-learning\n",
    "\n",
    "Your First Machine Learning Model - https://www.kaggle.com/code/dansbecker/your-first-machine-learning-model\n",
    "\n",
    "train.csv - https://www.kaggle.com/datasets/dansbecker/home-data-for-ml-course"
   ]
  },
  {
   "cell_type": "code",
   "execution_count": null,
   "metadata": {},
   "outputs": [],
   "source": [
    "import pandas as pd\n",
    "\n",
    "# load a CSV file\n",
    "home_file_path = '../data/train.csv'\n",
    "home_data = pd.read_csv(home_file_path)\n",
    "\n",
    "# columns in the data source\n",
    "home_data.columns"
   ]
  },
  {
   "cell_type": "code",
   "execution_count": null,
   "metadata": {},
   "outputs": [],
   "source": [
    "# define the prediction target\n",
    "y = home_data.SalePrice\n",
    "\n",
    "# choosing the features\n",
    "feature_names = [\n",
    "    \"LotArea\",\n",
    "    \"YearBuilt\",\n",
    "    \"1stFlrSF\",\n",
    "    \"2ndFlrSF\",\n",
    "    \"FullBath\",\n",
    "    \"BedroomAbvGr\",\n",
    "    \"TotRmsAbvGrd\",\n",
    "]\n",
    "\n",
    "# Data associated to the features\n",
    "X = home_data[feature_names]\n",
    "X.describe()"
   ]
  },
  {
   "cell_type": "code",
   "execution_count": null,
   "metadata": {},
   "outputs": [],
   "source": [
    "# let's have a look at the first X rows\n",
    "X.head()"
   ]
  },
  {
   "cell_type": "code",
   "execution_count": null,
   "metadata": {},
   "outputs": [],
   "source": [
    "from sklearn.tree import DecisionTreeRegressor\n",
    "\n",
    "# Define and fit the model\n",
    "home_model = DecisionTreeRegressor(random_state=1)\n",
    "home_model.fit(X, y)\n",
    "\n",
    "# Predict the result\n",
    "home_model.predict(X)"
   ]
  },
  {
   "cell_type": "code",
   "execution_count": null,
   "metadata": {},
   "outputs": [],
   "source": [
    "print(\"For these houses ...\")\n",
    "print(X.head(), \"\\nPrediction is\", home_model.predict(X.head()))"
   ]
  }
 ],
 "metadata": {
  "kernelspec": {
   "display_name": ".venv",
   "language": "python",
   "name": "python3"
  },
  "language_info": {
   "codemirror_mode": {
    "name": "ipython",
    "version": 3
   },
   "file_extension": ".py",
   "mimetype": "text/x-python",
   "name": "python",
   "nbconvert_exporter": "python",
   "pygments_lexer": "ipython3",
   "version": "3.13.1"
  }
 },
 "nbformat": 4,
 "nbformat_minor": 2
}
