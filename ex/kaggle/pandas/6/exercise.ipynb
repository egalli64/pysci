{
 "cells": [
  {
   "cell_type": "markdown",
   "metadata": {},
   "source": [
    "Python and Science - https://github.com/egalli64/pysci\n",
    "\n",
    "Kaggle Courses - Pandas - https://www.kaggle.com/learn/pandas\n",
    "\n",
    "Renaming and Combining - https://www.kaggle.com/code/residentmario/renaming-and-combining"
   ]
  },
  {
   "cell_type": "code",
   "execution_count": 1,
   "metadata": {},
   "outputs": [],
   "source": [
    "# Setup /1: only pandas is used here\n",
    "import pandas as pd"
   ]
  },
  {
   "cell_type": "code",
   "execution_count": null,
   "metadata": {},
   "outputs": [],
   "source": [
    "# Setup /2: generate the data frame used for examples\n",
    "\n",
    "reviews = pd.DataFrame({\n",
    "    'country': ['Italy', 'Portugal', 'US', 'Italy', 'Canada', 'France', 'Italy','Australia', 'New Zealand'],\n",
    "    'description': ['A', 'B tropical', 'C', 'D', 'E', 'F', 'E fruity', 'H', 'I'],\n",
    "    'price': [12, 41, 34, 18, 27, 32, 43, 22, 12], \n",
    "    'winery': ['A 21', 'B 34', 'C 54', 'D 21', pd.NA, 'F 43', 'G 44', 'H 11', 'I 32'],\n",
    "    'points': [85, 88, 87, 92, 81, 95, 84, 97, 80],\n",
    "    'variety': ['a', 'b', 'a', 'b', 'a', 'b', 'a', 'b', 'a'],\n",
    "    'title': ['a a', 'b b', 'c c', 'd d', 'e e', 'f f', 'g g', 'h h', 'i i'],\n",
    "    'province': ['A', 'AP', 'AUSA', 'B', 'A', 'A', 'A','A', 'ANZ'],\n",
    "    'taster_name': ['a', 'b', 'c', 'b', 'a', 'c', 'a', 'b', 'c'],\n",
    "    'region_1': ['a', pd.NA, 'c', 'b', pd.NA, pd.NA, pd.NA, 'b', 'c'],\n",
    "    'region_2': ['x', pd.NA, pd.NA, 'w', pd.NA, pd.NA, pd.NA, 'y', 'x'],\n",
    "})\n",
    "\n",
    "reviews.head(10)"
   ]
  },
  {
   "cell_type": "markdown",
   "metadata": {},
   "source": [
    "Exercise 1 - rename column region_1, region_2 to region and locale"
   ]
  },
  {
   "cell_type": "code",
   "execution_count": null,
   "metadata": {},
   "outputs": [],
   "source": [
    "reviews.rename(columns={'region_1': 'region', 'region_2': 'locale'})"
   ]
  },
  {
   "cell_type": "markdown",
   "metadata": {},
   "source": [
    "Exercise 2 - set the index name to wines"
   ]
  },
  {
   "cell_type": "code",
   "execution_count": null,
   "metadata": {},
   "outputs": [],
   "source": [
    "reviews.rename_axis(\"wines\", axis='rows')"
   ]
  },
  {
   "cell_type": "markdown",
   "metadata": {},
   "source": [
    "Exercise 3 - Generate a new data frame concatenating two given ones (same column names)"
   ]
  },
  {
   "cell_type": "code",
   "execution_count": null,
   "metadata": {},
   "outputs": [],
   "source": [
    "# here I concatenate review with itself\n",
    "pd.concat([reviews, reviews])"
   ]
  },
  {
   "cell_type": "markdown",
   "metadata": {},
   "source": [
    "Exercise 4 - join two tables on the same index"
   ]
  },
  {
   "cell_type": "code",
   "execution_count": null,
   "metadata": {},
   "outputs": [],
   "source": [
    "left = reviews.set_index(['country'])\n",
    "right = reviews.set_index(['country'])\n",
    "\n",
    "# since here I use the same table, I need to change the column names\n",
    "left.join(right, rsuffix='_2')"
   ]
  }
 ],
 "metadata": {
  "kernelspec": {
   "display_name": ".venv",
   "language": "python",
   "name": "python3"
  },
  "language_info": {
   "codemirror_mode": {
    "name": "ipython",
    "version": 3
   },
   "file_extension": ".py",
   "mimetype": "text/x-python",
   "name": "python",
   "nbconvert_exporter": "python",
   "pygments_lexer": "ipython3",
   "version": "3.13.1"
  }
 },
 "nbformat": 4,
 "nbformat_minor": 2
}
