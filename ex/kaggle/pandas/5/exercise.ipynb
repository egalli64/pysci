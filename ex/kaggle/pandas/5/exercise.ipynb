{
 "cells": [
  {
   "cell_type": "markdown",
   "metadata": {},
   "source": [
    "Python and Science - https://github.com/egalli64/pysci\n",
    "\n",
    "Kaggle Courses - Pandas - https://www.kaggle.com/learn/pandas\n",
    "\n",
    "Data Types and Missing Values - https://www.kaggle.com/code/residentmario/data-types-and-missing-values"
   ]
  },
  {
   "cell_type": "code",
   "execution_count": 14,
   "metadata": {},
   "outputs": [],
   "source": [
    "# Setup /1: only pandas is used here\n",
    "import pandas as pd"
   ]
  },
  {
   "cell_type": "code",
   "execution_count": null,
   "metadata": {},
   "outputs": [],
   "source": [
    "# Setup /2: generate the data frame used for examples\n",
    "\n",
    "reviews = pd.DataFrame({\n",
    "    'country': ['Italy', 'Portugal', 'US', 'Italy', 'Canada', 'France', 'Italy','Australia', 'New Zealand'],\n",
    "    'description': ['A', 'B tropical', 'C', 'D', 'E', 'F', 'E fruity', 'H', 'I'],\n",
    "    'price': [12, 41, 34, 18, 27, 32, 43, 22, 12], \n",
    "    'winery': ['A 21', 'B 34', 'C 54', 'D 21', pd.NA, 'F 43', 'G 44', 'H 11', 'I 32'],\n",
    "    'points': [85, 88, 87, 92, 81, 95, 84, 97, 80],\n",
    "    'variety': ['a', 'b', 'a', 'b', 'a', 'b', 'a', 'b', 'a'],\n",
    "    'title': ['a a', 'b b', 'c c', 'd d', 'e e', 'f f', 'g g', 'h h', 'i i'],\n",
    "    'province': ['A', 'AP', 'AUSA', 'B', 'A', 'A', 'A','A', 'ANZ'],\n",
    "    'taster_name': ['a', 'b', 'c', 'b', 'a', 'c', 'a', 'b', 'c'],\n",
    "    'region_1': ['a', pd.NA, 'c', 'b', pd.NA, pd.NA, pd.NA, 'b', 'c'],\n",
    "})\n",
    "\n",
    "reviews.head(10)"
   ]
  },
  {
   "cell_type": "markdown",
   "metadata": {},
   "source": [
    "Exercise 1 - data type of the points column"
   ]
  },
  {
   "cell_type": "code",
   "execution_count": null,
   "metadata": {},
   "outputs": [],
   "source": [
    "reviews.points.dtype"
   ]
  },
  {
   "cell_type": "markdown",
   "metadata": {},
   "source": [
    "Exercise 2 - convert to a Series of strings the point column"
   ]
  },
  {
   "cell_type": "code",
   "execution_count": null,
   "metadata": {},
   "outputs": [],
   "source": [
    "reviews.points.astype(str)"
   ]
  },
  {
   "cell_type": "markdown",
   "metadata": {},
   "source": [
    "Exercise 3 - count how many price are NA"
   ]
  },
  {
   "cell_type": "code",
   "execution_count": null,
   "metadata": {},
   "outputs": [],
   "source": [
    "reviews.price.isna().sum()"
   ]
  },
  {
   "cell_type": "markdown",
   "metadata": {},
   "source": [
    "Exercise 4 - Create a Series counting the number of times each value occurs in the region_1 field, replace missing values with Unknown, sort in descending order"
   ]
  },
  {
   "cell_type": "code",
   "execution_count": null,
   "metadata": {},
   "outputs": [],
   "source": [
    "reviews.region_1.fillna('Unknown').value_counts().sort_values(ascending=False)"
   ]
  }
 ],
 "metadata": {
  "kernelspec": {
   "display_name": ".venv",
   "language": "python",
   "name": "python3"
  },
  "language_info": {
   "codemirror_mode": {
    "name": "ipython",
    "version": 3
   },
   "file_extension": ".py",
   "mimetype": "text/x-python",
   "name": "python",
   "nbconvert_exporter": "python",
   "pygments_lexer": "ipython3",
   "version": "3.13.1"
  }
 },
 "nbformat": 4,
 "nbformat_minor": 2
}
