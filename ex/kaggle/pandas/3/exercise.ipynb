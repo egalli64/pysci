{
 "cells": [
  {
   "cell_type": "markdown",
   "metadata": {},
   "source": [
    "Python and Science - https://github.com/egalli64/pysci\n",
    "\n",
    "Kaggle Courses - Pandas - https://www.kaggle.com/learn/pandas\n",
    "\n",
    "Summary Functions and Maps - https://www.kaggle.com/code/residentmario/summary-functions-and-maps"
   ]
  },
  {
   "cell_type": "code",
   "execution_count": 41,
   "metadata": {},
   "outputs": [],
   "source": [
    "# Setup /1: only pandas is used here\n",
    "import pandas as pd"
   ]
  },
  {
   "cell_type": "code",
   "execution_count": null,
   "metadata": {},
   "outputs": [],
   "source": [
    "# Setup /2: generate the data frame used for examples\n",
    "\n",
    "reviews = pd.DataFrame({\n",
    "    'country': ['Italy', 'Portugal', 'US', 'Italy', 'Canada', 'France', 'Italy','Australia', 'New Zealand'],\n",
    "    'description': ['A', 'B tropical', 'C', 'D', 'E', 'F', 'E fruity', 'H', 'I'],\n",
    "    'price': [35, 41, 34, 18, 27, 32, 43, 22, 12], \n",
    "    'bananas': [21, 34, 54, 21, None, 43, 44, 11, 32],\n",
    "    'points': [85, 88, 87, 92, 81, 95, 84, 97, 80],\n",
    "    'variety': ['a', 'b', 'c', 'd', 'e', 'f', 'g', 'h', 'i'],\n",
    "    'title': ['a a', 'b b', 'c c', 'd d', 'e e', 'f f', 'g g', 'h h', 'i i'],\n",
    "})\n",
    "\n",
    "reviews.head(10)"
   ]
  },
  {
   "cell_type": "markdown",
   "metadata": {},
   "source": [
    "Exercise 1 - median of points"
   ]
  },
  {
   "cell_type": "code",
   "execution_count": null,
   "metadata": {},
   "outputs": [],
   "source": [
    "reviews.points.median()"
   ]
  },
  {
   "cell_type": "markdown",
   "metadata": {},
   "source": [
    "Exercise 2 - names of countries in the data frame (excluding duplicates)"
   ]
  },
  {
   "cell_type": "code",
   "execution_count": null,
   "metadata": {},
   "outputs": [],
   "source": [
    "reviews.country.unique()"
   ]
  },
  {
   "cell_type": "markdown",
   "metadata": {},
   "source": [
    "Exercise 3 - how often each country appears in the data frame?"
   ]
  },
  {
   "cell_type": "code",
   "execution_count": null,
   "metadata": {},
   "outputs": [],
   "source": [
    "reviews.country.value_counts()"
   ]
  },
  {
   "cell_type": "markdown",
   "metadata": {},
   "source": [
    "Exercise 4 - map the price column in its centered version"
   ]
  },
  {
   "cell_type": "code",
   "execution_count": null,
   "metadata": {},
   "outputs": [],
   "source": [
    "# review_price_mean = reviews.price.mean()\n",
    "# reviews.price.map(lambda p: p - review_price_mean)\n",
    "\n",
    "reviews.price - reviews.price.mean()"
   ]
  },
  {
   "cell_type": "markdown",
   "metadata": {},
   "source": [
    "Exercise 5 - get the title for row with the best point to price ratio"
   ]
  },
  {
   "cell_type": "code",
   "execution_count": null,
   "metadata": {},
   "outputs": [],
   "source": [
    "# 1. get the index of the row with max value from points / price\n",
    "# 2. get the title for the raw at such index\n",
    "reviews.loc[(reviews.points / reviews.price).idxmax(), 'title']"
   ]
  },
  {
   "cell_type": "markdown",
   "metadata": {},
   "source": [
    "Exercise 6 - count the frequency of \"tropical\" and \"fruity\" in description"
   ]
  },
  {
   "cell_type": "code",
   "execution_count": null,
   "metadata": {},
   "outputs": [],
   "source": [
    "pd.Series([\n",
    "        reviews.description.map(lambda x: \"tropical\" in x).sum(),\n",
    "        reviews.description.map(lambda x: \"fruity\" in x).sum()\n",
    "    ], index=['tropical', 'fruity']\n",
    ")"
   ]
  },
  {
   "cell_type": "markdown",
   "metadata": {},
   "source": [
    "Exercise 7 - map the point from [80 .. 100] to 3 stars [<85, <95, top] (but Canada has always 3 stars)"
   ]
  },
  {
   "cell_type": "code",
   "execution_count": null,
   "metadata": {},
   "outputs": [],
   "source": [
    "def stars(row):\n",
    "    if row.country == 'Canada' or row.points >= 95:\n",
    "        return 3\n",
    "    elif row.points >= 85:\n",
    "        return 2\n",
    "    else:\n",
    "        return 1\n",
    "    \n",
    "reviews.apply(stars, axis='columns')"
   ]
  }
 ],
 "metadata": {
  "kernelspec": {
   "display_name": ".venv",
   "language": "python",
   "name": "python3"
  },
  "language_info": {
   "codemirror_mode": {
    "name": "ipython",
    "version": 3
   },
   "file_extension": ".py",
   "mimetype": "text/x-python",
   "name": "python",
   "nbconvert_exporter": "python",
   "pygments_lexer": "ipython3",
   "version": "3.13.1"
  }
 },
 "nbformat": 4,
 "nbformat_minor": 2
}
