{
 "cells": [
  {
   "cell_type": "markdown",
   "metadata": {},
   "source": [
    "Python and Science - https://github.com/egalli64/pysci\n",
    "\n",
    "Kaggle Courses - Pandas - https://www.kaggle.com/learn/pandas\n",
    "\n",
    "Indexing, Selecting & Assigning - https://www.kaggle.com/code/residentmario/indexing-selecting-assigning"
   ]
  },
  {
   "cell_type": "code",
   "execution_count": 159,
   "metadata": {},
   "outputs": [],
   "source": [
    "# Setup /1: only pandas is used here\n",
    "import pandas as pd"
   ]
  },
  {
   "cell_type": "code",
   "execution_count": 160,
   "metadata": {},
   "outputs": [],
   "source": [
    "# Setup /2: generate the data frame used for examples\n",
    "\n",
    "reviews = pd.DataFrame({\n",
    "    'country': ['Italy', 'Portugal', 'US', 'Italy', 'Belgium', 'France'], \n",
    "    'apples': [35, 41, 34, 18, 27, 32], \n",
    "    'bananas': [21, 34, 54, 21, None, 43],\n",
    "    'points': [85, 88, 87, 92, 81, 95]\n",
    "})"
   ]
  },
  {
   "cell_type": "markdown",
   "metadata": {},
   "source": [
    "Native accessors"
   ]
  },
  {
   "cell_type": "code",
   "execution_count": null,
   "metadata": {},
   "outputs": [],
   "source": [
    "# The full data frame\n",
    "reviews"
   ]
  },
  {
   "cell_type": "code",
   "execution_count": null,
   "metadata": {},
   "outputs": [],
   "source": [
    "# Accessing a data frame column by name\n",
    "reviews.country\n"
   ]
  },
  {
   "cell_type": "code",
   "execution_count": null,
   "metadata": {},
   "outputs": [],
   "source": [
    "# Accessing a data frame column as an associative array\n",
    "reviews['country']"
   ]
  },
  {
   "cell_type": "code",
   "execution_count": null,
   "metadata": {},
   "outputs": [],
   "source": [
    "# A data frame column is a series, and its elements could be accessed as an associative array too\n",
    "reviews['country'][0]"
   ]
  },
  {
   "cell_type": "markdown",
   "metadata": {},
   "source": [
    "Indexing by iloc - index-based selection\n",
    "\n",
    "If on an interval, is a _right open_ one"
   ]
  },
  {
   "cell_type": "code",
   "execution_count": null,
   "metadata": {},
   "outputs": [],
   "source": [
    "# Get the first rows\n",
    "reviews.iloc[0]"
   ]
  },
  {
   "cell_type": "code",
   "execution_count": null,
   "metadata": {},
   "outputs": [],
   "source": [
    "# Get the first column (actually, all rows - by slice - for column 0)\n",
    "reviews.iloc[:, 0]"
   ]
  },
  {
   "cell_type": "code",
   "execution_count": null,
   "metadata": {},
   "outputs": [],
   "source": [
    "# Get first column, slicing rows 1 and 2\n",
    "reviews.iloc[1:3, 0]"
   ]
  },
  {
   "cell_type": "code",
   "execution_count": null,
   "metadata": {},
   "outputs": [],
   "source": [
    "# Get first column, picking rows 0 and 2 - by list\n",
    "reviews.iloc[[0, 2], 0]"
   ]
  },
  {
   "cell_type": "code",
   "execution_count": null,
   "metadata": {},
   "outputs": [],
   "source": [
    "# Get the full last two rows\n",
    "reviews.iloc[-2:]"
   ]
  },
  {
   "cell_type": "markdown",
   "metadata": {},
   "source": [
    "Indexing by loc - Label-based selection\n",
    "\n",
    "If on an interval, is a _closed_ one"
   ]
  },
  {
   "cell_type": "code",
   "execution_count": null,
   "metadata": {},
   "outputs": [],
   "source": [
    "# Get value in row labeled 0, column labeled 'country'\n",
    "reviews.loc[0, 'country']"
   ]
  },
  {
   "cell_type": "code",
   "execution_count": null,
   "metadata": {},
   "outputs": [],
   "source": [
    "# Labels are usually more readable than indices\n",
    "reviews.loc[:, ['country', 'points']]"
   ]
  },
  {
   "cell_type": "markdown",
   "metadata": {},
   "source": [
    "Manipulating the index"
   ]
  },
  {
   "cell_type": "code",
   "execution_count": null,
   "metadata": {},
   "outputs": [],
   "source": [
    "# change the index\n",
    "reviews.set_index(\"points\")"
   ]
  },
  {
   "cell_type": "code",
   "execution_count": 173,
   "metadata": {},
   "outputs": [],
   "source": [
    "# change the index in-place\n",
    "reviews.set_index(\"points\", inplace=True)"
   ]
  },
  {
   "cell_type": "code",
   "execution_count": null,
   "metadata": {},
   "outputs": [],
   "source": [
    "# using the new index (points) to get the 85 .. 87 rows (notice the close, unordered interval)\n",
    "reviews.loc[85:87,:]"
   ]
  },
  {
   "cell_type": "code",
   "execution_count": null,
   "metadata": {},
   "outputs": [],
   "source": [
    "# reset the index to default\n",
    "\n",
    "# 1. make the index a column\n",
    "reviews.reset_index(inplace=True)\n",
    "\n",
    "# add a new column to the data frame\n",
    "reviews['MyIndex'] = range(len(reviews))\n",
    "\n",
    "# set the new column as index\n",
    "reviews.set_index('MyIndex', inplace=True)\n",
    "\n",
    "# get rid of the temporary name\n",
    "reviews.index.name = None\n",
    "\n",
    "reviews"
   ]
  },
  {
   "cell_type": "markdown",
   "metadata": {},
   "source": [
    "Conditional selection"
   ]
  },
  {
   "cell_type": "code",
   "execution_count": null,
   "metadata": {},
   "outputs": [],
   "source": [
    "# Check each row if its country is Italy, a new Series is generated with boolean values\n",
    "reviews.country == 'Italy'"
   ]
  },
  {
   "cell_type": "code",
   "execution_count": null,
   "metadata": {},
   "outputs": [],
   "source": [
    "# using the resulting series to get only the rows of interest\n",
    "reviews.loc[reviews.country == 'Italy']"
   ]
  },
  {
   "cell_type": "code",
   "execution_count": null,
   "metadata": {},
   "outputs": [],
   "source": [
    "# use a single ampersand as logical AND\n",
    "reviews.loc[(reviews.country == 'Italy') & (reviews.points >= 90)]"
   ]
  },
  {
   "cell_type": "code",
   "execution_count": null,
   "metadata": {},
   "outputs": [],
   "source": [
    "# use a single pipe as logical OR\n",
    "reviews.loc[(reviews.country == 'Italy') | (reviews.points >= 90)]"
   ]
  },
  {
   "cell_type": "code",
   "execution_count": null,
   "metadata": {},
   "outputs": [],
   "source": [
    "# the isin() conditional operator could be more readable\n",
    "reviews.loc[reviews.country.isin(['Italy', 'France'])]"
   ]
  },
  {
   "cell_type": "code",
   "execution_count": null,
   "metadata": {},
   "outputs": [],
   "source": [
    "# notnull() filter to keep the rows with good values\n",
    "reviews.loc[reviews.bananas.notnull()]"
   ]
  },
  {
   "cell_type": "code",
   "execution_count": null,
   "metadata": {},
   "outputs": [],
   "source": [
    "# isnull() filter to keep the rows with missing values\n",
    "reviews.loc[reviews.bananas.isnull()]"
   ]
  },
  {
   "cell_type": "code",
   "execution_count": null,
   "metadata": {},
   "outputs": [],
   "source": [
    "# adding a new column with a constant in it (same for each row)\n",
    "reviews['critic'] = 'everyone'\n",
    "reviews"
   ]
  },
  {
   "cell_type": "code",
   "execution_count": null,
   "metadata": {},
   "outputs": [],
   "source": [
    "# adding a new column with a value from an iterabile in it\n",
    "reviews['index_backwards'] = range(len(reviews), 0, -1)\n",
    "reviews"
   ]
  }
 ],
 "metadata": {
  "kernelspec": {
   "display_name": ".venv",
   "language": "python",
   "name": "python3"
  },
  "language_info": {
   "codemirror_mode": {
    "name": "ipython",
    "version": 3
   },
   "file_extension": ".py",
   "mimetype": "text/x-python",
   "name": "python",
   "nbconvert_exporter": "python",
   "pygments_lexer": "ipython3",
   "version": "3.13.1"
  }
 },
 "nbformat": 4,
 "nbformat_minor": 2
}
