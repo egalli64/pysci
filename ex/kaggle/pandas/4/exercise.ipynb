{
 "cells": [
  {
   "cell_type": "markdown",
   "metadata": {},
   "source": [
    "Python and Science - https://github.com/egalli64/pysci\n",
    "\n",
    "Kaggle Courses - Pandas - https://www.kaggle.com/learn/pandas\n",
    "\n",
    "Grouping and Sorting - https://www.kaggle.com/code/residentmario/grouping-and-sorting"
   ]
  },
  {
   "cell_type": "code",
   "execution_count": 24,
   "metadata": {},
   "outputs": [],
   "source": [
    "# Setup /1: only pandas is used here\n",
    "import pandas as pd"
   ]
  },
  {
   "cell_type": "code",
   "execution_count": null,
   "metadata": {},
   "outputs": [],
   "source": [
    "# Setup /2: generate the data frame used for examples\n",
    "\n",
    "reviews = pd.DataFrame({\n",
    "    'country': ['Italy', 'Portugal', 'US', 'Italy', 'Canada', 'France', 'Italy','Australia', 'New Zealand'],\n",
    "    'description': ['A', 'B tropical', 'C', 'D', 'E', 'F', 'E fruity', 'H', 'I'],\n",
    "    'price': [12, 41, 34, 18, 27, 32, 43, 22, 12], \n",
    "    'winery': ['A 21', 'B 34', 'C 54', 'D 21', None, 'F 43', 'G 44', 'H 11', 'I 32'],\n",
    "    'points': [85, 88, 87, 92, 81, 95, 84, 97, 80],\n",
    "    'variety': ['a', 'b', 'a', 'b', 'a', 'b', 'a', 'b', 'a'],\n",
    "    'title': ['a a', 'b b', 'c c', 'd d', 'e e', 'f f', 'g g', 'h h', 'i i'],\n",
    "    'province': ['A', 'AP', 'AUSA', 'B', 'A', 'A', 'A','A', 'ANZ'],\n",
    "    'taster_name': ['a', 'b', 'c', 'b', 'a', 'c', 'a', 'b', 'c'],\n",
    "})\n",
    "\n",
    "reviews.head(10)"
   ]
  },
  {
   "cell_type": "markdown",
   "metadata": {},
   "source": [
    "Exercise 1 - group by a column and count the rows in each group"
   ]
  },
  {
   "cell_type": "code",
   "execution_count": null,
   "metadata": {},
   "outputs": [],
   "source": [
    "reviews.groupby('country').country.count()\n",
    "\n",
    "# col = 'country'\n",
    "# reviews.groupby(col)[col].count()\n",
    "# reviews.groupby(col).size()\n"
   ]
  },
  {
   "cell_type": "markdown",
   "metadata": {},
   "source": [
    "Exercise 2 - group by price, select max points one"
   ]
  },
  {
   "cell_type": "code",
   "execution_count": null,
   "metadata": {},
   "outputs": [],
   "source": [
    "reviews.groupby('price').points.max().sort_index()"
   ]
  },
  {
   "cell_type": "markdown",
   "metadata": {},
   "source": [
    "Exercise 3 - min/max price for each variety"
   ]
  },
  {
   "cell_type": "code",
   "execution_count": null,
   "metadata": {},
   "outputs": [],
   "source": [
    "price_extremes = reviews.groupby('variety').price.agg([min, max])\n",
    "price_extremes"
   ]
  },
  {
   "cell_type": "markdown",
   "metadata": {},
   "source": [
    "Exercise 4 - grouped by variety, sort top down by min / max price"
   ]
  },
  {
   "cell_type": "code",
   "execution_count": null,
   "metadata": {},
   "outputs": [],
   "source": [
    "price_extremes.sort_values(by=['min', 'max'], ascending=False)"
   ]
  },
  {
   "cell_type": "markdown",
   "metadata": {},
   "source": [
    "Exercise 5 - group by tester name, give the mean points for each group"
   ]
  },
  {
   "cell_type": "code",
   "execution_count": null,
   "metadata": {},
   "outputs": [],
   "source": [
    "reviews.groupby('taster_name').points.mean()"
   ]
  },
  {
   "cell_type": "markdown",
   "metadata": {},
   "source": [
    "Exercise 6 - group by country + variety, sort descending for row count"
   ]
  },
  {
   "cell_type": "code",
   "execution_count": null,
   "metadata": {},
   "outputs": [],
   "source": [
    "reviews.groupby(['country', 'variety']).size().sort_values(ascending=False)"
   ]
  }
 ],
 "metadata": {
  "kernelspec": {
   "display_name": ".venv",
   "language": "python",
   "name": "python3"
  },
  "language_info": {
   "codemirror_mode": {
    "name": "ipython",
    "version": 3
   },
   "file_extension": ".py",
   "mimetype": "text/x-python",
   "name": "python",
   "nbconvert_exporter": "python",
   "pygments_lexer": "ipython3",
   "version": "3.13.1"
  }
 },
 "nbformat": 4,
 "nbformat_minor": 2
}
